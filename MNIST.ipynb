{
  "nbformat": 4,
  "nbformat_minor": 0,
  "metadata": {
    "colab": {
      "name": "MNIST.ipynb",
      "provenance": [],
      "collapsed_sections": []
    },
    "kernelspec": {
      "name": "python3",
      "display_name": "Python 3"
    }
  },
  "cells": [
    {
      "cell_type": "code",
      "metadata": {
        "id": "TLRXPbDoo79L"
      },
      "source": [
        "import tensorflow as tf\n",
        "import tensorflow.keras as keras\n",
        "import numpy as np\n"
      ],
      "execution_count": null,
      "outputs": []
    },
    {
      "cell_type": "code",
      "metadata": {
        "id": "LKNFR-3Nquvn"
      },
      "source": [
        "mnist = tf.keras.datasets.mnist\n",
        "(x_train,y_train),(x_test,y_test) = mnist.load_data()"
      ],
      "execution_count": null,
      "outputs": []
    },
    {
      "cell_type": "code",
      "metadata": {
        "id": "CS8DvSBotU1s",
        "outputId": "743b2135-8308-404d-ab49-a3f38653e967",
        "colab": {
          "base_uri": "https://localhost:8080/",
          "height": 33
        }
      },
      "source": [
        "x_train.shape"
      ],
      "execution_count": null,
      "outputs": [
        {
          "output_type": "execute_result",
          "data": {
            "text/plain": [
              "(60000, 28, 28)"
            ]
          },
          "metadata": {
            "tags": []
          },
          "execution_count": 24
        }
      ]
    },
    {
      "cell_type": "code",
      "metadata": {
        "id": "x84NX5oOtdLZ",
        "outputId": "020448e8-6368-49c6-8934-5c96da8d70d8",
        "colab": {
          "base_uri": "https://localhost:8080/",
          "height": 33
        }
      },
      "source": [
        "y_train.shape"
      ],
      "execution_count": null,
      "outputs": [
        {
          "output_type": "execute_result",
          "data": {
            "text/plain": [
              "(60000,)"
            ]
          },
          "metadata": {
            "tags": []
          },
          "execution_count": 25
        }
      ]
    },
    {
      "cell_type": "code",
      "metadata": {
        "id": "pDrGtpR0tid_",
        "outputId": "faa2e3ad-7366-4252-b449-d1a4c69a8fea",
        "colab": {
          "base_uri": "https://localhost:8080/",
          "height": 33
        }
      },
      "source": [
        "x_test.shape"
      ],
      "execution_count": null,
      "outputs": [
        {
          "output_type": "execute_result",
          "data": {
            "text/plain": [
              "(10000, 28, 28)"
            ]
          },
          "metadata": {
            "tags": []
          },
          "execution_count": 26
        }
      ]
    },
    {
      "cell_type": "code",
      "metadata": {
        "id": "rO5VIdeptnCl",
        "outputId": "7ecefad4-3be3-4420-d52e-ac004082b5d4",
        "colab": {
          "base_uri": "https://localhost:8080/",
          "height": 33
        }
      },
      "source": [
        "y_test.shape"
      ],
      "execution_count": null,
      "outputs": [
        {
          "output_type": "execute_result",
          "data": {
            "text/plain": [
              "(10000,)"
            ]
          },
          "metadata": {
            "tags": []
          },
          "execution_count": 27
        }
      ]
    },
    {
      "cell_type": "code",
      "metadata": {
        "id": "03qFs4iZt1ho",
        "outputId": "d938dc4a-04dc-4f58-b4b7-301d6cc40674",
        "colab": {
          "base_uri": "https://localhost:8080/",
          "height": 33
        }
      },
      "source": [
        "y_train[89]"
      ],
      "execution_count": null,
      "outputs": [
        {
          "output_type": "execute_result",
          "data": {
            "text/plain": [
              "4"
            ]
          },
          "metadata": {
            "tags": []
          },
          "execution_count": 28
        }
      ]
    },
    {
      "cell_type": "code",
      "metadata": {
        "id": "gdZFnct3uT6h",
        "outputId": "5ed46549-ac54-498e-dec9-7d5bfdf4a4ce",
        "colab": {
          "base_uri": "https://localhost:8080/",
          "height": 281
        }
      },
      "source": [
        "import matplotlib.pyplot as plt\n",
        "plt.imshow(x_train[45])\n",
        "plt.show"
      ],
      "execution_count": null,
      "outputs": [
        {
          "output_type": "execute_result",
          "data": {
            "text/plain": [
              "<function matplotlib.pyplot.show>"
            ]
          },
          "metadata": {
            "tags": []
          },
          "execution_count": 29
        },
        {
          "output_type": "display_data",
          "data": {
            "image/png": "[encoded data removed]",
            "text/plain": [
              "<Figure size 432x288 with 1 Axes>"
            ]
          },
          "metadata": {
            "tags": [],
            "needs_background": "light"
          }
        }
      ]
    },
    {
      "cell_type": "code",
      "metadata": {
        "id": "wpwXO26VvqtL"
      },
      "source": [
        "model = tf.keras.Sequential()\n",
        "model.add(tf.keras.layers.Flatten())\n",
        "model.add(tf.keras.layers.Dense(512, activation= 'relu'))\n",
        "model.add(tf.keras.layers.Dense(10, activation= 'softmax'))\n"
      ],
      "execution_count": null,
      "outputs": []
    },
    {
      "cell_type": "code",
      "metadata": {
        "id": "8JeZ2cvGxPjB"
      },
      "source": [
        "model.compile(optimizer= 'adam', loss = 'sparse_categorical_crossentropy', metrics= 'accuracy')"
      ],
      "execution_count": null,
      "outputs": []
    },
    {
      "cell_type": "code",
      "metadata": {
        "id": "dP5BxTgux5rX",
        "outputId": "f9f6003e-4d75-412c-8acd-9f559d905b35",
        "colab": {
          "base_uri": "https://localhost:8080/",
          "height": 183
        }
      },
      "source": [
        "history = model.fit(x_train, y_train, epochs= 5)"
      ],
      "execution_count": null,
      "outputs": [
        {
          "output_type": "stream",
          "text": [
            "Epoch 1/5\n",
            "1875/1875 [==============================] - 7s 4ms/step - loss: 2.7232 - accuracy: 0.9065\n",
            "Epoch 2/5\n",
            "1875/1875 [==============================] - 7s 4ms/step - loss: 0.3490 - accuracy: 0.9381\n",
            "Epoch 3/5\n",
            "1875/1875 [==============================] - 7s 3ms/step - loss: 0.3088 - accuracy: 0.9414\n",
            "Epoch 4/5\n",
            "1875/1875 [==============================] - 7s 4ms/step - loss: 0.2923 - accuracy: 0.9453\n",
            "Epoch 5/5\n",
            "1875/1875 [==============================] - 7s 4ms/step - loss: 0.2490 - accuracy: 0.9495\n"
          ],
          "name": "stdout"
        }
      ]
    },
    {
      "cell_type": "code",
      "metadata": {
        "id": "wF7dsgoB1SeO",
        "outputId": "39dbbf79-422c-4300-ca20-d7e50449c984",
        "colab": {
          "base_uri": "https://localhost:8080/",
          "height": 33
        }
      },
      "source": [
        "y_pred = model.predict_classes(x_test)\n",
        "y_pred"
      ],
      "execution_count": null,
      "outputs": [
        {
          "output_type": "execute_result",
          "data": {
            "text/plain": [
              "array([7, 2, 1, ..., 4, 5, 6])"
            ]
          },
          "metadata": {
            "tags": []
          },
          "execution_count": 33
        }
      ]
    },
    {
      "cell_type": "code",
      "metadata": {
        "id": "D15NUwww2MPA"
      },
      "source": [
        "from sklearn.metrics import accuracy_score, confusion_matrix"
      ],
      "execution_count": null,
      "outputs": []
    },
    {
      "cell_type": "code",
      "metadata": {
        "id": "LhpiX-rf20nJ",
        "outputId": "1b4d8586-aa4a-432c-af8f-f49fc29409a8",
        "colab": {
          "base_uri": "https://localhost:8080/",
          "height": 33
        }
      },
      "source": [
        "accuracy_score(y_pred,y_test)"
      ],
      "execution_count": null,
      "outputs": [
        {
          "output_type": "execute_result",
          "data": {
            "text/plain": [
              "0.9475"
            ]
          },
          "metadata": {
            "tags": []
          },
          "execution_count": 35
        }
      ]
    },
    {
      "cell_type": "code",
      "metadata": {
        "id": "rPWIIcCt28Fz",
        "outputId": "b5172b59-e5f4-42c7-c333-25ee022b3a3f",
        "colab": {
          "base_uri": "https://localhost:8080/",
          "height": 183
        }
      },
      "source": [
        "confusion_matrix(y_pred, y_test)"
      ],
      "execution_count": null,
      "outputs": [
        {
          "output_type": "execute_result",
          "data": {
            "text/plain": [
              "array([[ 965,    0,    4,    0,    1,    2,   10,    2,    1,    2],\n",
              "       [   0, 1104,    1,    0,    1,    0,    4,    4,    0,    3],\n",
              "       [   0,    6,  968,    4,    5,    0,    2,   16,    5,    0],\n",
              "       [   0,    2,   16,  974,    0,   28,    1,    9,   32,    8],\n",
              "       [   1,    2,    5,    0,  906,    1,   11,    1,    1,   16],\n",
              "       [   3,    1,    1,    4,    0,  823,    6,    2,    2,    1],\n",
              "       [   4,    1,    4,    0,   12,   17,  917,    0,    7,    0],\n",
              "       [   1,    2,   12,    6,    6,    1,    0,  973,    2,    5],\n",
              "       [   5,   17,   20,    7,   10,   13,    7,    7,  879,    8],\n",
              "       [   1,    0,    1,   15,   41,    7,    0,   14,   45,  966]])"
            ]
          },
          "metadata": {
            "tags": []
          },
          "execution_count": 36
        }
      ]
    },
    {
      "cell_type": "code",
      "metadata": {
        "id": "anjpwZWS3-Oi",
        "outputId": "f6792ca4-4133-41a5-8d4b-3376927cf6f8",
        "colab": {
          "base_uri": "https://localhost:8080/",
          "height": 281
        }
      },
      "source": [
        "plt.plot(history.history['accuracy'])"
      ],
      "execution_count": null,
      "outputs": [
        {
          "output_type": "execute_result",
          "data": {
            "text/plain": [
              "[<matplotlib.lines.Line2D at 0x7f84212e94e0>]"
            ]
          },
          "metadata": {
            "tags": []
          },
          "execution_count": 37
        },
        {
          "output_type": "display_data",
          "data": {
            "image/png": "[encoded data removed]",
            "text/plain": [
              "<Figure size 432x288 with 1 Axes>"
            ]
          },
          "metadata": {
            "tags": [],
            "needs_background": "light"
          }
        }
      ]
    },
    {
      "cell_type": "code",
      "metadata": {
        "id": "KlsK4Dqva8C2",
        "outputId": "b75a4e6b-6b88-493a-b3e9-70071b5960c1",
        "colab": {
          "base_uri": "https://localhost:8080/",
          "height": 1000
        }
      },
      "source": [
        "model.get_weights()"
      ],
      "execution_count": null,
      "outputs": [
        {
          "output_type": "execute_result",
          "data": {
            "text/plain": [
              "[array([[ 0.05997783,  0.00579887,  0.03254431, ..., -0.06738495,\n",
              "          0.03370945,  0.00321978],\n",
              "        [ 0.04731517, -0.04137995,  0.02818035, ...,  0.05560225,\n",
              "         -0.05654394, -0.01991974],\n",
              "        [ 0.0519018 ,  0.01370887, -0.01766122, ..., -0.03066178,\n",
              "          0.06558423,  0.01382761],\n",
              "        ...,\n",
              "        [-0.01139948,  0.0030335 , -0.03276825, ..., -0.04576182,\n",
              "         -0.02816296,  0.0336315 ],\n",
              "        [-0.04964831, -0.03216216,  0.00708303, ..., -0.05103586,\n",
              "         -0.03028617,  0.05719958],\n",
              "        [-0.0671409 ,  0.03589184,  0.04751959, ..., -0.02208893,\n",
              "         -0.01126   , -0.0551025 ]], dtype=float32),\n",
              " array([-0.02046102, -0.05597482, -0.02507842, -0.03696911, -0.0342695 ,\n",
              "        -0.04164843, -0.05576114, -0.03836847, -0.03897209, -0.02522674,\n",
              "        -0.0149784 , -0.04322333, -0.03825781, -0.03708939, -0.00416345,\n",
              "        -0.02129196, -0.04029781, -0.05765985, -0.00932839, -0.04397921,\n",
              "        -0.03070371, -0.03145958, -0.03140298, -0.03099115, -0.06403672,\n",
              "        -0.03443947, -0.04101262, -0.0410664 , -0.04346749, -0.05882833,\n",
              "        -0.01234134, -0.03594086, -0.02811603, -0.02885445, -0.07790191,\n",
              "        -0.06074861, -0.04450576, -0.01838547, -0.03447586, -0.04322186,\n",
              "        -0.04131779, -0.05577098, -0.03333969, -0.02449396, -0.02674254,\n",
              "        -0.02665681, -0.03473838, -0.01592683, -0.04723028,  0.05313326,\n",
              "        -0.0387747 , -0.02031116, -0.02313127, -0.02486139, -0.0814857 ,\n",
              "        -0.01615405, -0.06473422, -0.0438018 , -0.02211142, -0.04236637,\n",
              "        -0.0236486 , -0.03957398, -0.02257106, -0.04487472, -0.04514514,\n",
              "        -0.03041835, -0.08161526, -0.03375344, -0.07126189, -0.06981607,\n",
              "        -0.02825952, -0.03730035, -0.04884681, -0.01648765, -0.0912506 ,\n",
              "        -0.05664156, -0.05137337, -0.03906178,  0.01239636, -0.04229397,\n",
              "        -0.00432706, -0.06243897, -0.03555061,  0.04076741, -0.04018809,\n",
              "        -0.03771958, -0.02329707, -0.07535195, -0.04515049, -0.00825174,\n",
              "        -0.02599028, -0.03674573, -0.03889753, -0.04042629, -0.0264741 ,\n",
              "        -0.02412163, -0.0573237 , -0.01965426, -0.02514303, -0.0400527 ,\n",
              "        -0.01946004, -0.01886147, -0.0527545 , -0.04379044, -0.02923327,\n",
              "        -0.03786646, -0.02127496, -0.02534723, -0.04356575, -0.04082313,\n",
              "        -0.02236309, -0.09027142, -0.03411771, -0.02557917, -0.02640637,\n",
              "        -0.03571611, -0.05929301, -0.02571842, -0.02849055, -0.03153403,\n",
              "        -0.04413357, -0.04644088, -0.01695824, -0.10822207, -0.02879841,\n",
              "        -0.00569283, -0.02635938, -0.05923218, -0.05634479, -0.03077155,\n",
              "        -0.03181618, -0.04502039, -0.04143991, -0.05333281, -0.01454912,\n",
              "        -0.04933437, -0.02319069, -0.07463399, -0.04798249, -0.01466122,\n",
              "        -0.03336581, -0.05158158, -0.03257671, -0.02311366, -0.03693292,\n",
              "        -0.03592573, -0.0495442 , -0.04644395, -0.04449423, -0.01675154,\n",
              "        -0.06166013, -0.05076858, -0.03252928, -0.01414233,  0.00958895,\n",
              "        -0.03333889, -0.01295352, -0.03362998, -0.08800424, -0.06462971,\n",
              "        -0.02805852, -0.12359648, -0.02989558, -0.06260156, -0.0545046 ,\n",
              "        -0.01863683, -0.02687641, -0.04615571, -0.0353645 , -0.01224501,\n",
              "        -0.02659892, -0.0104339 , -0.02479906, -0.02227115, -0.04304663,\n",
              "        -0.04655688, -0.02284025, -0.07831819, -0.029388  , -0.02683865,\n",
              "        -0.04038744,  0.00472192, -0.05019345, -0.00890554, -0.04776042,\n",
              "        -0.01714828, -0.08992027, -0.04308499, -0.02821957, -0.02231453,\n",
              "        -0.0337945 , -0.02076363, -0.04077763, -0.04108907, -0.027717  ,\n",
              "        -0.04485438, -0.03768238, -0.02344777, -0.03207767, -0.01470712,\n",
              "        -0.0477067 , -0.09052781, -0.00762887, -0.02795716, -0.02427149,\n",
              "        -0.00833   , -0.10412265, -0.02945164, -0.02189483, -0.04037067,\n",
              "        -0.02017183, -0.06376665, -0.02147321, -0.05531096, -0.01702232,\n",
              "        -0.02232775, -0.05988277, -0.0130202 , -0.03497793, -0.01987514,\n",
              "        -0.00740858, -0.02755924, -0.0352979 , -0.01063592, -0.05306843,\n",
              "        -0.01289591, -0.03973409, -0.04420112, -0.04553372, -0.0151781 ,\n",
              "        -0.04867563, -0.0520725 , -0.04338352, -0.03413378, -0.02476924,\n",
              "        -0.02349995, -0.0395349 , -0.04005751, -0.03943641, -0.06020807,\n",
              "        -0.06431746, -0.07288912, -0.02172953, -0.03797243, -0.02043   ,\n",
              "        -0.01793472, -0.08876785, -0.03100426, -0.02219089, -0.02244989,\n",
              "        -0.0407907 , -0.13221754, -0.03875761, -0.02061134, -0.01857088,\n",
              "        -0.01530594, -0.01496817, -0.03186781, -0.04846814, -0.0383683 ,\n",
              "        -0.04251315, -0.06708754, -0.01827409, -0.01830072, -0.01447741,\n",
              "        -0.0184736 , -0.04327955, -0.06341602, -0.05571939, -0.07296731,\n",
              "        -0.02668798, -0.04106311, -0.02832517, -0.03632227, -0.0474844 ,\n",
              "        -0.02580215, -0.06501416, -0.05974174, -0.03782007, -0.02244741,\n",
              "        -0.00170356, -0.02167403, -0.06384268, -0.0422897 , -0.03504117,\n",
              "        -0.04725513, -0.04055245, -0.04936079, -0.05454425, -0.04909415,\n",
              "        -0.07285938, -0.01286929, -0.02349168, -0.03862409, -0.03255054,\n",
              "        -0.00076125, -0.06321833, -0.01584157, -0.05754273,  0.00098301,\n",
              "        -0.02067835, -0.0446363 , -0.02581231, -0.03104113, -0.07640206,\n",
              "        -0.03041758, -0.06031052, -0.01712588, -0.06147721, -0.0349522 ,\n",
              "        -0.03233155, -0.05504645, -0.04362784, -0.04104254, -0.01151064,\n",
              "        -0.03837372, -0.00801876, -0.0420977 , -0.05824176, -0.01927437,\n",
              "        -0.05681536, -0.00377158, -0.04626349, -0.03690433, -0.13467109,\n",
              "        -0.03913992, -0.03571944, -0.02633424, -0.01406256, -0.04447332,\n",
              "        -0.03981563, -0.02605339, -0.03459867, -0.04120575, -0.03343607,\n",
              "        -0.0075436 , -0.01771569, -0.0323821 , -0.03707268, -0.02528407,\n",
              "        -0.03696095, -0.035393  , -0.01693141, -0.070801  , -0.01288472,\n",
              "        -0.0098968 , -0.03151518, -0.02427247, -0.04207424, -0.02154809,\n",
              "        -0.04374051, -0.07024559, -0.02690978, -0.04300294, -0.03833177,\n",
              "        -0.07095452, -0.03723787, -0.02853933, -0.01649196, -0.02002316,\n",
              "        -0.03553188, -0.0439576 , -0.00915719, -0.00754811, -0.05561374,\n",
              "        -0.08400144, -0.04269699, -0.0435375 , -0.03073501, -0.00520399,\n",
              "        -0.03041224, -0.02579861, -0.02742575, -0.02278895, -0.00464404,\n",
              "        -0.06792713, -0.03466087, -0.05219727, -0.00823023, -0.03900784,\n",
              "        -0.01340655, -0.0307189 , -0.05011173, -0.04401594, -0.04354944,\n",
              "        -0.03775874, -0.02366844, -0.05000266, -0.03023401, -0.02990173,\n",
              "        -0.03824712, -0.04509931, -0.02290294, -0.01632675, -0.03187043,\n",
              "        -0.01007407, -0.01413871, -0.02083809, -0.03624557, -0.0164313 ,\n",
              "        -0.03889853, -0.08693845, -0.05267665, -0.02001542, -0.0322389 ,\n",
              "        -0.0369262 , -0.01952334, -0.04759573, -0.07218363, -0.00761888,\n",
              "        -0.02981746, -0.02687624, -0.0422626 , -0.03438702, -0.05687063,\n",
              "        -0.02186216, -0.03610899, -0.04048193, -0.01711233, -0.04062455,\n",
              "        -0.02799173, -0.01790119, -0.07004834, -0.07399698, -0.0688095 ,\n",
              "        -0.03810572, -0.02447781, -0.09865446, -0.02406835, -0.02919907,\n",
              "        -0.0314899 , -0.03082064, -0.04815878, -0.03359919, -0.00846677,\n",
              "        -0.07514383, -0.03361906, -0.0498821 , -0.02827292, -0.02530311,\n",
              "        -0.02287366, -0.02716191, -0.00791047, -0.02858985, -0.03383637,\n",
              "        -0.05654508, -0.01243878, -0.07963879, -0.03809909, -0.0276171 ,\n",
              "        -0.02776318, -0.03951445, -0.02611182, -0.04440687, -0.01644093,\n",
              "        -0.04360389, -0.0272031 , -0.0131294 , -0.01336232, -0.02753163,\n",
              "        -0.02929618, -0.0267138 , -0.03267181, -0.05751666, -0.08846631,\n",
              "         0.00948612, -0.0410906 , -0.05588313, -0.02960296, -0.03008419,\n",
              "        -0.04667767, -0.03690682, -0.0305833 , -0.03401927, -0.07889825,\n",
              "        -0.05774745, -0.01633805, -0.0461822 , -0.04286032, -0.02979387,\n",
              "        -0.04912867, -0.02711941, -0.03979107, -0.00664438, -0.01926022,\n",
              "        -0.02510457, -0.02559814, -0.02182403, -0.07476131, -0.04223314,\n",
              "        -0.05309389, -0.05648148, -0.04608056, -0.06468247, -0.07649662,\n",
              "        -0.03563691, -0.06281059, -0.02877028, -0.03570739, -0.03339671,\n",
              "        -0.02671882, -0.01176539, -0.05986448, -0.03248766, -0.03403404,\n",
              "        -0.02678142, -0.06716979, -0.02477486, -0.0718693 , -0.02557635,\n",
              "        -0.02134364, -0.05395529], dtype=float32),\n",
              " array([[-0.01303988, -0.0104217 , -0.02554179, ...,  0.02762765,\n",
              "         -0.0265158 ,  0.05690359],\n",
              "        [-0.08358159,  0.09466797,  0.03514359, ..., -0.02896454,\n",
              "          0.03606554,  0.06210803],\n",
              "        [-0.02863275,  0.01362786, -0.07922209, ...,  0.00274116,\n",
              "          0.00041008,  0.06291526],\n",
              "        ...,\n",
              "        [ 0.06027866, -0.04791242, -0.03447065, ..., -0.01582291,\n",
              "         -0.03776593,  0.05721014],\n",
              "        [-0.01647004,  0.02651306,  0.02936028, ...,  0.03478141,\n",
              "          0.02088192,  0.00939909],\n",
              "        [-0.01088103,  0.01508241,  0.07267404, ...,  0.06911748,\n",
              "          0.01989002,  0.00272628]], dtype=float32),\n",
              " array([ 0.3744601 , -0.44493997, -0.01674347, -0.07679424, -0.2872684 ,\n",
              "        -0.2566836 , -0.22346246, -0.341525  ,  0.8158279 ,  0.13445608],\n",
              "       dtype=float32)]"
            ]
          },
          "metadata": {
            "tags": []
          },
          "execution_count": 38
        }
      ]
    },
    {
      "cell_type": "code",
      "metadata": {
        "id": "WHqa5_phbKPI"
      },
      "source": [
        "model.save('model_integer.h5')"
      ],
      "execution_count": null,
      "outputs": []
    }
  ]
}